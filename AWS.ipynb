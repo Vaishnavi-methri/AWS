{
  "cells": [
    {
      "cell_type": "code",
      "execution_count": null,
      "metadata": {
        "colab": {
          "background_save": true,
          "base_uri": "https://localhost:8080/"
        },
        "id": "ss_metqzX6Jk",
        "outputId": "e3dd5c74-e4fa-4d45-fcfe-520f5d455e6d"
      },
      "outputs": [
        {
          "name": "stdout",
          "output_type": "stream",
          "text": [
            "\n",
            "Device 1:\n",
            "mrecw consumes: 1.75 kWh per day\n",
            "\n",
            "Device 2:\n",
            "mrecw 1 consumes: 1.40 kWh per day\n",
            "\n",
            "Device 3:\n"
          ]
        }
      ],
      "source": [
        "# Energy Consumption Calculator\n",
        "\n",
        "num_devices = int(input(\"Enter the number of devices: \"))\n",
        "\n",
        "total_daily_energy = 0.0\n",
        "\n",
        "for i in range(num_devices):\n",
        "    print(f\"\\nDevice {i+1}:\")\n",
        "    name = input(\"Device name: \")\n",
        "    power = float(input(\"Power (in watts): \"))\n",
        "    hours = float(input(\"Usage per day (in hours): \"))\n",
        "\n",
        "    daily_energy = (power * hours) / 1000  # kWh\n",
        "    print(f\"{name} consumes: {daily_energy:.2f} kWh per day\")\n",
        "    total_daily_energy += daily_energy\n",
        "\n",
        "print(f\"\\n✅ Total daily energy consumption: {total_daily_energy:.2f} kWh\")\n"
      ]
    },
    {
      "cell_type": "code",
      "execution_count": null,
      "metadata": {
        "colab": {
          "base_uri": "https://localhost:8080/"
        },
        "id": "uP4AnWTnYZAn",
        "outputId": "4bacf293-0b30-43fc-8782-5c5f4f22d0be"
      },
      "outputs": [
        {
          "output_type": "stream",
          "name": "stdout",
          "text": [
            "Requirement already satisfied: tabulate in /usr/local/lib/python3.11/dist-packages (0.9.0)\n",
            "Requirement already satisfied: matplotlib in /usr/local/lib/python3.11/dist-packages (3.10.0)\n",
            "Requirement already satisfied: contourpy>=1.0.1 in /usr/local/lib/python3.11/dist-packages (from matplotlib) (1.3.2)\n",
            "Requirement already satisfied: cycler>=0.10 in /usr/local/lib/python3.11/dist-packages (from matplotlib) (0.12.1)\n",
            "Requirement already satisfied: fonttools>=4.22.0 in /usr/local/lib/python3.11/dist-packages (from matplotlib) (4.59.0)\n",
            "Requirement already satisfied: kiwisolver>=1.3.1 in /usr/local/lib/python3.11/dist-packages (from matplotlib) (1.4.8)\n",
            "Requirement already satisfied: numpy>=1.23 in /usr/local/lib/python3.11/dist-packages (from matplotlib) (2.0.2)\n",
            "Requirement already satisfied: packaging>=20.0 in /usr/local/lib/python3.11/dist-packages (from matplotlib) (25.0)\n",
            "Requirement already satisfied: pillow>=8 in /usr/local/lib/python3.11/dist-packages (from matplotlib) (11.3.0)\n",
            "Requirement already satisfied: pyparsing>=2.3.1 in /usr/local/lib/python3.11/dist-packages (from matplotlib) (3.2.3)\n",
            "Requirement already satisfied: python-dateutil>=2.7 in /usr/local/lib/python3.11/dist-packages (from matplotlib) (2.9.0.post0)\n",
            "Requirement already satisfied: six>=1.5 in /usr/local/lib/python3.11/dist-packages (from python-dateutil>=2.7->matplotlib) (1.17.0)\n",
            "Enter the number of devices in the classroom: 4\n",
            "\n",
            "Device 1:\n",
            "Device name: block2 \n",
            "Power (in watts): 150\n",
            "Usage per day (in hours): 6\n",
            "\n",
            "Device 2:\n",
            "Device name: mrecw115\n",
            "Power (in watts): 200\n",
            "Usage per day (in hours): 6\n",
            "\n",
            "Device 3:\n"
          ]
        }
      ],
      "source": [
        "#  Install required package\n",
        "!pip install tabulate matplotlib\n",
        "\n",
        "#  Classroom Power Consumption Estimator\n",
        "\n",
        "from tabulate import tabulate\n",
        "import matplotlib.pyplot as plt\n",
        "\n",
        "# Step 1: Input\n",
        "while True:\n",
        "    try:\n",
        "        num_devices = int(input(\"Enter the number of devices in the classroom: \"))\n",
        "        break  # Exit the loop if input is a valid integer\n",
        "    except ValueError:\n",
        "        print(\"Invalid input. Please enter a whole number for the number of devices.\")\n",
        "\n",
        "\n",
        "devices = []\n",
        "\n",
        "for i in range(num_devices):\n",
        "    print(f\"\\nDevice {i+1}:\")\n",
        "    name = input(\"Device name: \")\n",
        "    while True:\n",
        "        try:\n",
        "            power = float(input(\"Power (in watts): \"))\n",
        "            break\n",
        "        except ValueError:\n",
        "            print(\"Invalid input. Please enter a number for the power.\")\n",
        "    while True:\n",
        "        try:\n",
        "            hours = float(input(\"Usage per day (in hours): \"))\n",
        "            break\n",
        "        except ValueError:\n",
        "            print(\"Invalid input. Please enter a number for the usage hours.\")\n",
        "\n",
        "    devices.append({\n",
        "        'name': name,\n",
        "        'power': power,\n",
        "        'hours': hours\n",
        "    })\n",
        "\n",
        "# Step 2: Calculate\n",
        "for device in devices:\n",
        "    daily_kwh = (device['power'] * device['hours']) / 1000\n",
        "    monthly_kwh = daily_kwh * 30\n",
        "    device['daily_kwh'] = daily_kwh\n",
        "    device['monthly_kwh'] = monthly_kwh\n",
        "\n",
        "# Step 3: Display as table\n",
        "table = []\n",
        "total_daily = 0\n",
        "total_monthly = 0\n",
        "\n",
        "for d in devices:\n",
        "    table.append([\n",
        "        d['name'],\n",
        "        f\"{d['power']} W\",\n",
        "        f\"{d['hours']} hrs\",\n",
        "        f\"{d['daily_kwh']:.2f} kWh\",\n",
        "        f\"{d['monthly_kwh']:.2f} kWh\"\n",
        "    ])\n",
        "    total_daily += d['daily_kwh']\n",
        "    total_monthly += d['monthly_kwh']\n",
        "\n",
        "print(\"\\n📊 Classroom Power Consumption Estimate:\")\n",
        "headers = [\"Device\", \"Power\", \"Usage/Day\", \"Daily Consumption\", \"Monthly Consumption\"]\n",
        "print(tabulate(table, headers, tablefmt=\"grid\"))\n",
        "\n",
        "print(f\"\\n✅ Total Daily Consumption: {total_daily:.2f} kWh\")\n",
        "print(f\"✅ Total Monthly Consumption: {total_monthly:.2f} kWh\")\n",
        "\n",
        "# Step 4: Plot bar chart\n",
        "device_names = [d['name'] for d in devices]\n",
        "daily_consumptions = [d['daily_kwh'] for d in devices]\n",
        "\n",
        "plt.figure(figsize=(8,5))\n",
        "plt.bar(device_names, daily_consumptions, color='lightgreen')\n",
        "plt.title(\"Daily Energy Consumption by Device\")\n",
        "plt.ylabel(\"Energy (kWh)\")\n",
        "plt.xlabel(\"Device\")\n",
        "plt.show()"
      ]
    },
    {
      "cell_type": "code",
      "execution_count": null,
      "metadata": {
        "id": "Ltd596kb-F3I"
      },
      "outputs": [],
      "source": [
        "# Import all the libraries\n",
        "\n",
        "import pandas as pd\n",
        "import numpy as np\n",
        "import matplotlib.pyplot as plt\n",
        "import seaborn as sns\n",
        "import joblib\n",
        "from sklearn.linear_model import LinearRegression\n",
        "from sklearn.model_selection import train_test_split\n",
        "from sklearn.metrics import mean_squared_error"
      ]
    },
    {
      "cell_type": "code",
      "execution_count": null,
      "metadata": {
        "id": "b-Iuihta-gJi"
      },
      "outputs": [],
      "source": [
        "# Load dataset\n",
        "df = pd.read_csv(\"/content/household_energy_r6rt3f1k9p (1).csv\", parse_dates=['timestamp'])\n",
        "#df\n"
      ]
    },
    {
      "cell_type": "code",
      "execution_count": null,
      "metadata": {
        "id": "1slb6roR-z8_"
      },
      "outputs": [],
      "source": [
        "# Extract time features\n",
        "df['hour'] = df['timestamp'].dt.hour\n",
        "df['day'] = df['timestamp'].dt.day\n",
        "df['weekday'] = df['timestamp'].dt.dayofweek\n",
        "df['date'] = df['timestamp'].dt.date\n",
        "#df"
      ]
    },
    {
      "cell_type": "code",
      "execution_count": null,
      "metadata": {
        "colab": {
          "base_uri": "https://localhost:8080/"
        },
        "id": "qkCiLU4s-67w",
        "outputId": "2063c8b5-a1bb-4b1e-efbd-028a25b811c3"
      },
      "outputs": [
        {
          "name": "stdout",
          "output_type": "stream",
          "text": [
            "=== Basic Info ===\n",
            "<class 'pandas.core.frame.DataFrame'>\n",
            "RangeIndex: 50 entries, 0 to 49\n",
            "Data columns (total 9 columns):\n",
            " #   Column               Non-Null Count  Dtype         \n",
            "---  ------               --------------  -----         \n",
            " 0   timestamp            50 non-null     datetime64[ns]\n",
            " 1   temperature          50 non-null     float64       \n",
            " 2   outside_temperature  50 non-null     float64       \n",
            " 3   device_usage         50 non-null     int64         \n",
            " 4   energy_consumption   50 non-null     float64       \n",
            " 5   hour                 50 non-null     int32         \n",
            " 6   day                  50 non-null     int32         \n",
            " 7   weekday              50 non-null     int32         \n",
            " 8   date                 50 non-null     object        \n",
            "dtypes: datetime64[ns](1), float64(3), int32(3), int64(1), object(1)\n",
            "memory usage: 3.1+ KB\n",
            "None\n"
          ]
        }
      ],
      "source": [
        "# Basic summary\n",
        "print(\"=== Basic Info ===\")\n",
        "print(df.info())"
      ]
    },
    {
      "cell_type": "code",
      "execution_count": null,
      "metadata": {
        "colab": {
          "base_uri": "https://localhost:8080/"
        },
        "id": "g6hLbWly_Bnm",
        "outputId": "dcf0ba71-2a41-4615-e3b9-725569a35ec5"
      },
      "outputs": [
        {
          "name": "stdout",
          "output_type": "stream",
          "text": [
            "\n",
            "=== Summary ===\n",
            "                           timestamp  temperature  outside_temperature  \\\n",
            "count                             50    50.000000             50.00000   \n",
            "mean   2025-07-02 00:29:59.999999744    25.310800             32.44260   \n",
            "min              2025-07-01 00:00:00    20.160000             25.10000   \n",
            "25%              2025-07-01 12:15:00    22.792500             28.76500   \n",
            "50%              2025-07-02 00:30:00    25.290000             31.99000   \n",
            "75%              2025-07-02 12:45:00    27.500000             35.93500   \n",
            "max              2025-07-03 01:00:00    29.770000             39.94000   \n",
            "std                              NaN     2.809494              4.47634   \n",
            "\n",
            "       device_usage  energy_consumption      hour        day    weekday  \n",
            "count     50.000000           50.000000  50.00000  50.000000  50.000000  \n",
            "mean       0.520000            2.944800  11.06000   1.560000   1.560000  \n",
            "min        0.000000            1.150000   0.00000   1.000000   1.000000  \n",
            "25%        0.000000            2.247500   5.00000   1.000000   1.000000  \n",
            "50%        1.000000            2.925000  11.00000   2.000000   2.000000  \n",
            "75%        1.000000            3.545000  17.00000   2.000000   2.000000  \n",
            "max        1.000000            5.090000  23.00000   3.000000   3.000000  \n",
            "std        0.504672            1.013072   7.18959   0.577115   0.577115  \n"
          ]
        }
      ],
      "source": [
        "print(\"\\n=== Summary ===\")\n",
        "print(df.describe())"
      ]
    },
    {
      "cell_type": "code",
      "execution_count": null,
      "metadata": {
        "id": "iq11m4cv_Gvr"
      },
      "outputs": [],
      "source": [
        "# Daily and Weekly Consumption Analysis\n",
        "daily_consumption = df.groupby('date')['energy_consumption'].sum()\n",
        "weekly_consumption = df.groupby(df['timestamp'].dt.isocalendar().week)['energy_consumption'].sum()"
      ]
    },
    {
      "cell_type": "code",
      "execution_count": null,
      "metadata": {
        "colab": {
          "base_uri": "https://localhost:8080/"
        },
        "id": "I50Ph6k3_WR4",
        "outputId": "0ca177bc-b4d8-4de2-efec-ddd0192f8d46"
      },
      "outputs": [
        {
          "name": "stdout",
          "output_type": "stream",
          "text": [
            "\n",
            "=== Daily Consumption (First 5 Days) ===\n",
            "date\n",
            "2025-07-01    67.46\n",
            "2025-07-02    72.62\n",
            "2025-07-03     7.16\n",
            "Name: energy_consumption, dtype: float64\n"
          ]
        }
      ],
      "source": [
        "print(\"\\n=== Daily Consumption (First 5 Days) ===\")\n",
        "print(daily_consumption.head())"
      ]
    },
    {
      "cell_type": "code",
      "execution_count": null,
      "metadata": {
        "colab": {
          "base_uri": "https://localhost:8080/"
        },
        "id": "D8mgBs84_agv",
        "outputId": "a7dcd09f-892a-4c35-e1a9-57a35ebbadc4"
      },
      "outputs": [
        {
          "name": "stdout",
          "output_type": "stream",
          "text": [
            "\n",
            "=== Weekly Consumption (First 5 Weeks) ===\n",
            "week\n",
            "27    147.24\n",
            "Name: energy_consumption, dtype: float64\n"
          ]
        }
      ],
      "source": [
        "print(\"\\n=== Weekly Consumption (First 5 Weeks) ===\")\n",
        "print(weekly_consumption.head())"
      ]
    },
    {
      "cell_type": "code",
      "execution_count": null,
      "metadata": {
        "colab": {
          "base_uri": "https://localhost:8080/",
          "height": 382
        },
        "id": "8f2j8CEy_e7t",
        "outputId": "6946b84b-3120-4bd6-9f0f-d21dc74819d1"
      },
      "outputs": [
        {
          "data": {
            "image/png": "[encoded data removed]",
            "text/plain": [
              "<Figure size 1200x400 with 1 Axes>"
            ]
          },
          "metadata": {},
          "output_type": "display_data"
        }
      ],
      "source": [
        "# Visualize Daily Usage\n",
        "plt.figure(figsize=(12, 4))\n",
        "plt.plot(daily_consumption.index, daily_consumption.values, marker='o')\n",
        "plt.title(\"Daily Household Energy Consumption\")\n",
        "plt.xlabel(\"Date\")\n",
        "plt.ylabel(\"Energy (kWh)\")\n",
        "plt.grid(True)\n",
        "plt.tight_layout()\n",
        "plt.savefig(\"daily_energy_plot.png\")\n",
        "plt.show()"
      ]
    },
    {
      "cell_type": "code",
      "execution_count": null,
      "metadata": {
        "id": "oLptRdPZ_nQm"
      },
      "outputs": [],
      "source": [
        "# Forecasting with Linear Regression\n",
        "features = ['temperature', 'outside_temperature', 'device_usage', 'hour', 'weekday']\n",
        "X = df[features]\n",
        "y = df['energy_consumption']"
      ]
    },
    {
      "cell_type": "code",
      "execution_count": null,
      "metadata": {
        "colab": {
          "base_uri": "https://localhost:8080/"
        },
        "id": "IGCqKgih_rqA",
        "outputId": "9daa615b-b853-4563-8dec-0f01713a2926"
      },
      "outputs": [
        {
          "name": "stdout",
          "output_type": "stream",
          "text": [
            "\n",
            "Forecasting RMSE: 0.700\n"
          ]
        }
      ],
      "source": [
        "# Split data into training and testing sets\n",
        "X_train, X_test, y_train, y_test = train_test_split(X, y, test_size=0.2, random_state=42)\n",
        "\n",
        "# Train the Linear Regression model\n",
        "model = LinearRegression()\n",
        "model.fit(X_train, y_train)\n",
        "\n",
        "# Make predictions and evaluate the model\n",
        "y_pred = model.predict(X_test)\n",
        "rmse = np.sqrt(mean_squared_error(y_test, y_pred))\n",
        "print(f\"\\nForecasting RMSE: {rmse:.3f}\")\n",
        "# RMSE (Root Mean Square Error) is a statistical measure that represents the square root of the average squared differences between predicted and observed outcomes.\n",
        "# It provides an indication of how well the model is performing, with lower values indicating better performance."
      ]
    },
    {
      "cell_type": "code",
      "execution_count": null,
      "metadata": {
        "id": "kdyXPWQ7_3m-"
      },
      "outputs": [],
      "source": [
        "# Add forecast to full dataset\n",
        "df['predicted_consumption'] = model.predict(X)"
      ]
    },
    {
      "cell_type": "code",
      "execution_count": null,
      "metadata": {
        "id": "4WoxW8W9_8AA"
      },
      "outputs": [],
      "source": [
        "# Detect inefficiencies: consumption 25% higher than moving avg (6-hour window)\n",
        "df['moving_avg'] = df['energy_consumption'].rolling(window=6, min_periods=1).mean()\n",
        "df['inefficient'] = df['energy_consumption'] > 1.25 * df['moving_avg']"
      ]
    },
    {
      "cell_type": "code",
      "execution_count": null,
      "metadata": {
        "colab": {
          "base_uri": "https://localhost:8080/"
        },
        "id": "nhTbMOfRAAvT",
        "outputId": "2069f3bb-b0bb-4b8b-84f1-9d57bfa4607f"
      },
      "outputs": [
        {
          "name": "stdout",
          "output_type": "stream",
          "text": [
            "\n",
            "=== Inefficient Usage Entries ===\n",
            "             timestamp  energy_consumption  moving_avg\n",
            "2  2025-07-01 02:00:00                3.21    2.436667\n",
            "6  2025-07-01 06:00:00                3.46    2.581667\n",
            "8  2025-07-01 08:00:00                3.49    2.675000\n",
            "12 2025-07-01 12:00:00                3.88    2.911667\n",
            "19 2025-07-01 19:00:00                4.59    2.880000\n"
          ]
        }
      ],
      "source": [
        "print(\"\\n=== Inefficient Usage Entries ===\")\n",
        "ineff_df = df[df['inefficient']]\n",
        "print(ineff_df[['timestamp', 'energy_consumption', 'moving_avg']].head())"
      ]
    },
    {
      "cell_type": "code",
      "execution_count": null,
      "metadata": {
        "id": "eq6chVoFAEwg"
      },
      "outputs": [],
      "source": [
        "# Recommendation Engine (Simple Rules)\n",
        "recommendations = []\n",
        "\n",
        "for _, row in ineff_df.iterrows():\n",
        "    if row['device_usage'] > 0 and row['energy_consumption'] > 3:\n",
        "        recommendations.append(\"Consider turning off idle devices during high-usage periods.\")\n",
        "    if row['outside_temperature'] > 30 and row['energy_consumption'] > 3:\n",
        "        recommendations.append(\"High outside temp + high usage: Adjust thermostat or close blinds.\")\n",
        "    if row['hour'] in [0, 1, 2, 3, 4] and row['energy_consumption'] > 2:\n",
        "        recommendations.append(\"High energy use detected at night. Investigate appliance usage.\")"
      ]
    },
    {
      "cell_type": "code",
      "execution_count": null,
      "metadata": {
        "colab": {
          "base_uri": "https://localhost:8080/"
        },
        "id": "mhoS-eyuAJ-l",
        "outputId": "e4848fd6-11f9-427a-c473-6e289a136133"
      },
      "outputs": [
        {
          "name": "stdout",
          "output_type": "stream",
          "text": [
            "\n",
            "=== Recommendations ===\n",
            "- Consider turning off idle devices during high-usage periods.\n",
            "- High outside temp + high usage: Adjust thermostat or close blinds.\n",
            "- High energy use detected at night. Investigate appliance usage.\n"
          ]
        }
      ],
      "source": [
        "recommendations = list(set(recommendations))\n",
        "print(\"\\n=== Recommendations ===\")\n",
        "for rec in recommendations:\n",
        "    print(f\"- {rec}\")"
      ]
    },
    {
      "cell_type": "code",
      "execution_count": null,
      "metadata": {
        "colab": {
          "base_uri": "https://localhost:8080/"
        },
        "id": "GTCOps-ZC92o",
        "outputId": "67124783-9840-4211-d79b-1241744137ce"
      },
      "outputs": [
        {
          "name": "stdout",
          "output_type": "stream",
          "text": [
            "Requirement already satisfied: pandas in /usr/local/lib/python3.11/dist-packages (2.2.2)\n",
            "Requirement already satisfied: matplotlib in /usr/local/lib/python3.11/dist-packages (3.10.0)\n",
            "Requirement already satisfied: numpy>=1.23.2 in /usr/local/lib/python3.11/dist-packages (from pandas) (2.0.2)\n",
            "Requirement already satisfied: python-dateutil>=2.8.2 in /usr/local/lib/python3.11/dist-packages (from pandas) (2.9.0.post0)\n",
            "Requirement already satisfied: pytz>=2020.1 in /usr/local/lib/python3.11/dist-packages (from pandas) (2025.2)\n",
            "Requirement already satisfied: tzdata>=2022.7 in /usr/local/lib/python3.11/dist-packages (from pandas) (2025.2)\n",
            "Requirement already satisfied: contourpy>=1.0.1 in /usr/local/lib/python3.11/dist-packages (from matplotlib) (1.3.3)\n",
            "Requirement already satisfied: cycler>=0.10 in /usr/local/lib/python3.11/dist-packages (from matplotlib) (0.12.1)\n",
            "Requirement already satisfied: fonttools>=4.22.0 in /usr/local/lib/python3.11/dist-packages (from matplotlib) (4.59.0)\n",
            "Requirement already satisfied: kiwisolver>=1.3.1 in /usr/local/lib/python3.11/dist-packages (from matplotlib) (1.4.8)\n",
            "Requirement already satisfied: packaging>=20.0 in /usr/local/lib/python3.11/dist-packages (from matplotlib) (25.0)\n",
            "Requirement already satisfied: pillow>=8 in /usr/local/lib/python3.11/dist-packages (from matplotlib) (11.3.0)\n",
            "Requirement already satisfied: pyparsing>=2.3.1 in /usr/local/lib/python3.11/dist-packages (from matplotlib) (3.2.3)\n",
            "Requirement already satisfied: six>=1.5 in /usr/local/lib/python3.11/dist-packages (from python-dateutil>=2.8.2->pandas) (1.17.0)\n"
          ]
        }
      ],
      "source": [
        "# Install required libraries (if not already)\n",
        "!pip install pandas matplotlib\n"
      ]
    },
    {
      "cell_type": "code",
      "execution_count": null,
      "metadata": {
        "id": "0q2czF5hDBQr"
      },
      "outputs": [],
      "source": [
        "import random\n",
        "import time\n",
        "import pandas as pd\n",
        "import matplotlib.pyplot as plt\n",
        "from datetime import datetime\n"
      ]
    },
    {
      "cell_type": "code",
      "execution_count": null,
      "metadata": {
        "id": "ySkJiAYbDEnq"
      },
      "outputs": [],
      "source": [
        "# Simulate data: generate 50 readings\n",
        "data = []\n",
        "\n",
        "for _ in range(50):\n",
        "    timestamp = datetime.now().strftime('%Y-%m-%d %H:%M:%S')\n",
        "    voltage = round(random.uniform(18, 22), 2)  # volts\n",
        "    current = round(random.uniform(2, 5), 2)    # amps\n",
        "    power = round(voltage * current, 2)         # watts\n",
        "    data.append({'timestamp': timestamp, 'voltage': voltage, 'current': current, 'power': power})\n",
        "    time.sleep(0.1)  # small delay to simulate real data\n"
      ]
    },
    {
      "cell_type": "code",
      "execution_count": null,
      "metadata": {
        "colab": {
          "base_uri": "https://localhost:8080/",
          "height": 206
        },
        "id": "9H38ICZkDJAp",
        "outputId": "8852f07b-3d9f-4948-de90-170c9703a856"
      },
      "outputs": [
        {
          "data": {
            "application/vnd.google.colaboratory.intrinsic+json": {
              "summary": "{\n  \"name\": \"df\",\n  \"rows\": 50,\n  \"fields\": [\n    {\n      \"column\": \"timestamp\",\n      \"properties\": {\n        \"dtype\": \"object\",\n        \"num_unique_values\": 6,\n        \"samples\": [\n          \"2025-08-01 09:52:50\",\n          \"2025-08-01 09:52:51\",\n          \"2025-08-01 09:52:55\"\n        ],\n        \"semantic_type\": \"\",\n        \"description\": \"\"\n      }\n    },\n    {\n      \"column\": \"voltage\",\n      \"properties\": {\n        \"dtype\": \"number\",\n        \"std\": 1.2434896420139245,\n        \"min\": 18.16,\n        \"max\": 21.93,\n        \"num_unique_values\": 48,\n        \"samples\": [\n          18.46,\n          21.84,\n          21.9\n        ],\n        \"semantic_type\": \"\",\n        \"description\": \"\"\n      }\n    },\n    {\n      \"column\": \"current\",\n      \"properties\": {\n        \"dtype\": \"number\",\n        \"std\": 0.90562189704543,\n        \"min\": 2.17,\n        \"max\": 4.96,\n        \"num_unique_values\": 45,\n        \"samples\": [\n          3.79,\n          4.2,\n          3.73\n        ],\n        \"semantic_type\": \"\",\n        \"description\": \"\"\n      }\n    },\n    {\n      \"column\": \"power\",\n      \"properties\": {\n        \"dtype\": \"number\",\n        \"std\": 18.728030530491466,\n        \"min\": 40.86,\n        \"max\": 99.04,\n        \"num_unique_values\": 50,\n        \"samples\": [\n          85.04,\n          96.0,\n          81.8\n        ],\n        \"semantic_type\": \"\",\n        \"description\": \"\"\n      }\n    }\n  ]\n}",
              "type": "dataframe",
              "variable_name": "df"
            },
            "text/html": [
              "\n",
              "  <div id=\"df-51252d12-d4a5-4151-81b4-61dedc512aa6\" class=\"colab-df-container\">\n",
              "    <div>\n",
              "<style scoped>\n",
              "    .dataframe tbody tr th:only-of-type {\n",
              "        vertical-align: middle;\n",
              "    }\n",
              "\n",
              "    .dataframe tbody tr th {\n",
              "        vertical-align: top;\n",
              "    }\n",
              "\n",
              "    .dataframe thead th {\n",
              "        text-align: right;\n",
              "    }\n",
              "</style>\n",
              "<table border=\"1\" class=\"dataframe\">\n",
              "  <thead>\n",
              "    <tr style=\"text-align: right;\">\n",
              "      <th></th>\n",
              "      <th>timestamp</th>\n",
              "      <th>voltage</th>\n",
              "      <th>current</th>\n",
              "      <th>power</th>\n",
              "    </tr>\n",
              "  </thead>\n",
              "  <tbody>\n",
              "    <tr>\n",
              "      <th>0</th>\n",
              "      <td>2025-08-01 09:52:50</td>\n",
              "      <td>21.06</td>\n",
              "      <td>2.24</td>\n",
              "      <td>47.17</td>\n",
              "    </tr>\n",
              "    <tr>\n",
              "      <th>1</th>\n",
              "      <td>2025-08-01 09:52:50</td>\n",
              "      <td>18.59</td>\n",
              "      <td>4.90</td>\n",
              "      <td>91.09</td>\n",
              "    </tr>\n",
              "    <tr>\n",
              "      <th>2</th>\n",
              "      <td>2025-08-01 09:52:50</td>\n",
              "      <td>18.73</td>\n",
              "      <td>4.16</td>\n",
              "      <td>77.92</td>\n",
              "    </tr>\n",
              "    <tr>\n",
              "      <th>3</th>\n",
              "      <td>2025-08-01 09:52:50</td>\n",
              "      <td>21.64</td>\n",
              "      <td>4.39</td>\n",
              "      <td>95.00</td>\n",
              "    </tr>\n",
              "    <tr>\n",
              "      <th>4</th>\n",
              "      <td>2025-08-01 09:52:50</td>\n",
              "      <td>18.23</td>\n",
              "      <td>2.84</td>\n",
              "      <td>51.77</td>\n",
              "    </tr>\n",
              "  </tbody>\n",
              "</table>\n",
              "</div>\n",
              "    <div class=\"colab-df-buttons\">\n",
              "\n",
              "  <div class=\"colab-df-container\">\n",
              "    <button class=\"colab-df-convert\" onclick=\"convertToInteractive('df-51252d12-d4a5-4151-81b4-61dedc512aa6')\"\n",
              "            title=\"Convert this dataframe to an interactive table.\"\n",
              "            style=\"display:none;\">\n",
              "\n",
              "  <svg xmlns=\"http://www.w3.org/2000/svg\" height=\"24px\" viewBox=\"0 -960 960 960\">\n",
              "    <path d=\"M120-120v-720h720v720H120Zm60-500h600v-160H180v160Zm220 220h160v-160H400v160Zm0 220h160v-160H400v160ZM180-400h160v-160H180v160Zm440 0h160v-160H620v160ZM180-180h160v-160H180v160Zm440 0h160v-160H620v160Z\"/>\n",
              "  </svg>\n",
              "    </button>\n",
              "\n",
              "  <style>\n",
              "    .colab-df-container {\n",
              "      display:flex;\n",
              "      gap: 12px;\n",
              "    }\n",
              "\n",
              "    .colab-df-convert {\n",
              "      background-color: #E8F0FE;\n",
              "      border: none;\n",
              "      border-radius: 50%;\n",
              "      cursor: pointer;\n",
              "      display: none;\n",
              "      fill: #1967D2;\n",
              "      height: 32px;\n",
              "      padding: 0 0 0 0;\n",
              "      width: 32px;\n",
              "    }\n",
              "\n",
              "    .colab-df-convert:hover {\n",
              "      background-color: #E2EBFA;\n",
              "      box-shadow: 0px 1px 2px rgba(60, 64, 67, 0.3), 0px 1px 3px 1px rgba(60, 64, 67, 0.15);\n",
              "      fill: #174EA6;\n",
              "    }\n",
              "\n",
              "    .colab-df-buttons div {\n",
              "      margin-bottom: 4px;\n",
              "    }\n",
              "\n",
              "    [theme=dark] .colab-df-convert {\n",
              "      background-color: #3B4455;\n",
              "      fill: #D2E3FC;\n",
              "    }\n",
              "\n",
              "    [theme=dark] .colab-df-convert:hover {\n",
              "      background-color: #434B5C;\n",
              "      box-shadow: 0px 1px 3px 1px rgba(0, 0, 0, 0.15);\n",
              "      filter: drop-shadow(0px 1px 2px rgba(0, 0, 0, 0.3));\n",
              "      fill: #FFFFFF;\n",
              "    }\n",
              "  </style>\n",
              "\n",
              "    <script>\n",
              "      const buttonEl =\n",
              "        document.querySelector('#df-51252d12-d4a5-4151-81b4-61dedc512aa6 button.colab-df-convert');\n",
              "      buttonEl.style.display =\n",
              "        google.colab.kernel.accessAllowed ? 'block' : 'none';\n",
              "\n",
              "      async function convertToInteractive(key) {\n",
              "        const element = document.querySelector('#df-51252d12-d4a5-4151-81b4-61dedc512aa6');\n",
              "        const dataTable =\n",
              "          await google.colab.kernel.invokeFunction('convertToInteractive',\n",
              "                                                    [key], {});\n",
              "        if (!dataTable) return;\n",
              "\n",
              "        const docLinkHtml = 'Like what you see? Visit the ' +\n",
              "          '<a target=\"_blank\" href=https://colab.research.google.com/notebooks/data_table.ipynb>data table notebook</a>'\n",
              "          + ' to learn more about interactive tables.';\n",
              "        element.innerHTML = '';\n",
              "        dataTable['output_type'] = 'display_data';\n",
              "        await google.colab.output.renderOutput(dataTable, element);\n",
              "        const docLink = document.createElement('div');\n",
              "        docLink.innerHTML = docLinkHtml;\n",
              "        element.appendChild(docLink);\n",
              "      }\n",
              "    </script>\n",
              "  </div>\n",
              "\n",
              "\n",
              "    <div id=\"df-380887e4-03e1-4c65-8d10-5a3c7e95242e\">\n",
              "      <button class=\"colab-df-quickchart\" onclick=\"quickchart('df-380887e4-03e1-4c65-8d10-5a3c7e95242e')\"\n",
              "                title=\"Suggest charts\"\n",
              "                style=\"display:none;\">\n",
              "\n",
              "<svg xmlns=\"http://www.w3.org/2000/svg\" height=\"24px\"viewBox=\"0 0 24 24\"\n",
              "     width=\"24px\">\n",
              "    <g>\n",
              "        <path d=\"M19 3H5c-1.1 0-2 .9-2 2v14c0 1.1.9 2 2 2h14c1.1 0 2-.9 2-2V5c0-1.1-.9-2-2-2zM9 17H7v-7h2v7zm4 0h-2V7h2v10zm4 0h-2v-4h2v4z\"/>\n",
              "    </g>\n",
              "</svg>\n",
              "      </button>\n",
              "\n",
              "<style>\n",
              "  .colab-df-quickchart {\n",
              "      --bg-color: #E8F0FE;\n",
              "      --fill-color: #1967D2;\n",
              "      --hover-bg-color: #E2EBFA;\n",
              "      --hover-fill-color: #174EA6;\n",
              "      --disabled-fill-color: #AAA;\n",
              "      --disabled-bg-color: #DDD;\n",
              "  }\n",
              "\n",
              "  [theme=dark] .colab-df-quickchart {\n",
              "      --bg-color: #3B4455;\n",
              "      --fill-color: #D2E3FC;\n",
              "      --hover-bg-color: #434B5C;\n",
              "      --hover-fill-color: #FFFFFF;\n",
              "      --disabled-bg-color: #3B4455;\n",
              "      --disabled-fill-color: #666;\n",
              "  }\n",
              "\n",
              "  .colab-df-quickchart {\n",
              "    background-color: var(--bg-color);\n",
              "    border: none;\n",
              "    border-radius: 50%;\n",
              "    cursor: pointer;\n",
              "    display: none;\n",
              "    fill: var(--fill-color);\n",
              "    height: 32px;\n",
              "    padding: 0;\n",
              "    width: 32px;\n",
              "  }\n",
              "\n",
              "  .colab-df-quickchart:hover {\n",
              "    background-color: var(--hover-bg-color);\n",
              "    box-shadow: 0 1px 2px rgba(60, 64, 67, 0.3), 0 1px 3px 1px rgba(60, 64, 67, 0.15);\n",
              "    fill: var(--button-hover-fill-color);\n",
              "  }\n",
              "\n",
              "  .colab-df-quickchart-complete:disabled,\n",
              "  .colab-df-quickchart-complete:disabled:hover {\n",
              "    background-color: var(--disabled-bg-color);\n",
              "    fill: var(--disabled-fill-color);\n",
              "    box-shadow: none;\n",
              "  }\n",
              "\n",
              "  .colab-df-spinner {\n",
              "    border: 2px solid var(--fill-color);\n",
              "    border-color: transparent;\n",
              "    border-bottom-color: var(--fill-color);\n",
              "    animation:\n",
              "      spin 1s steps(1) infinite;\n",
              "  }\n",
              "\n",
              "  @keyframes spin {\n",
              "    0% {\n",
              "      border-color: transparent;\n",
              "      border-bottom-color: var(--fill-color);\n",
              "      border-left-color: var(--fill-color);\n",
              "    }\n",
              "    20% {\n",
              "      border-color: transparent;\n",
              "      border-left-color: var(--fill-color);\n",
              "      border-top-color: var(--fill-color);\n",
              "    }\n",
              "    30% {\n",
              "      border-color: transparent;\n",
              "      border-left-color: var(--fill-color);\n",
              "      border-top-color: var(--fill-color);\n",
              "      border-right-color: var(--fill-color);\n",
              "    }\n",
              "    40% {\n",
              "      border-color: transparent;\n",
              "      border-right-color: var(--fill-color);\n",
              "      border-top-color: var(--fill-color);\n",
              "    }\n",
              "    60% {\n",
              "      border-color: transparent;\n",
              "      border-right-color: var(--fill-color);\n",
              "    }\n",
              "    80% {\n",
              "      border-color: transparent;\n",
              "      border-right-color: var(--fill-color);\n",
              "      border-bottom-color: var(--fill-color);\n",
              "    }\n",
              "    90% {\n",
              "      border-color: transparent;\n",
              "      border-bottom-color: var(--fill-color);\n",
              "    }\n",
              "  }\n",
              "</style>\n",
              "\n",
              "      <script>\n",
              "        async function quickchart(key) {\n",
              "          const quickchartButtonEl =\n",
              "            document.querySelector('#' + key + ' button');\n",
              "          quickchartButtonEl.disabled = true;  // To prevent multiple clicks.\n",
              "          quickchartButtonEl.classList.add('colab-df-spinner');\n",
              "          try {\n",
              "            const charts = await google.colab.kernel.invokeFunction(\n",
              "                'suggestCharts', [key], {});\n",
              "          } catch (error) {\n",
              "            console.error('Error during call to suggestCharts:', error);\n",
              "          }\n",
              "          quickchartButtonEl.classList.remove('colab-df-spinner');\n",
              "          quickchartButtonEl.classList.add('colab-df-quickchart-complete');\n",
              "        }\n",
              "        (() => {\n",
              "          let quickchartButtonEl =\n",
              "            document.querySelector('#df-380887e4-03e1-4c65-8d10-5a3c7e95242e button');\n",
              "          quickchartButtonEl.style.display =\n",
              "            google.colab.kernel.accessAllowed ? 'block' : 'none';\n",
              "        })();\n",
              "      </script>\n",
              "    </div>\n",
              "\n",
              "    </div>\n",
              "  </div>\n"
            ],
            "text/plain": [
              "             timestamp  voltage  current  power\n",
              "0  2025-08-01 09:52:50    21.06     2.24  47.17\n",
              "1  2025-08-01 09:52:50    18.59     4.90  91.09\n",
              "2  2025-08-01 09:52:50    18.73     4.16  77.92\n",
              "3  2025-08-01 09:52:50    21.64     4.39  95.00\n",
              "4  2025-08-01 09:52:50    18.23     2.84  51.77"
            ]
          },
          "execution_count": 23,
          "metadata": {},
          "output_type": "execute_result"
        }
      ],
      "source": [
        "df = pd.DataFrame(data)\n",
        "df.head()\n"
      ]
    },
    {
      "cell_type": "code",
      "execution_count": null,
      "metadata": {
        "colab": {
          "base_uri": "https://localhost:8080/",
          "height": 607
        },
        "id": "mf9AWs8SDNSY",
        "outputId": "943d8f54-0f70-4d6c-c1cf-4b416a504a90"
      },
      "outputs": [
        {
          "data": {
            "image/png": "[encoded data removed]",
            "text/plain": [
              "<Figure size 1200x600 with 1 Axes>"
            ]
          },
          "metadata": {},
          "output_type": "display_data"
        }
      ],
      "source": [
        "plt.figure(figsize=(12, 6))\n",
        "plt.plot(df['timestamp'], df['voltage'], label='Voltage (V)')\n",
        "plt.plot(df['timestamp'], df['current'], label='Current (A)')\n",
        "plt.plot(df['timestamp'], df['power'], label='Power (W)')\n",
        "plt.xticks(rotation=90)\n",
        "plt.title('Solar IoT Energy Data')\n",
        "plt.xlabel('Timestamp')\n",
        "plt.ylabel('Measurement')\n",
        "plt.legend()\n",
        "plt.tight_layout()\n",
        "plt.show()\n"
      ]
    },
    {
      "cell_type": "code",
      "execution_count": null,
      "metadata": {
        "id": "q5tPG8TKDSCf"
      },
      "outputs": [],
      "source": [
        "df.to_csv('solar_energy_data.csv', index=False)\n"
      ]
    },
    {
      "cell_type": "code",
      "execution_count": null,
      "metadata": {
        "colab": {
          "base_uri": "https://localhost:8080/"
        },
        "id": "JFU000DfDVG6",
        "outputId": "3a6ebb85-b361-4d70-c18c-a2ff421e5b8e"
      },
      "outputs": [
        {
          "name": "stdout",
          "output_type": "stream",
          "text": [
            "⚡ Latest Measurements:\n",
            "              timestamp  voltage  current  power\n",
            "45  2025-08-01 09:52:54    18.66     3.39  63.26\n",
            "46  2025-08-01 09:52:54    20.99     2.59  54.36\n",
            "47  2025-08-01 09:52:54    20.76     3.42  71.00\n",
            "48  2025-08-01 09:52:55    21.09     2.57  54.20\n",
            "49  2025-08-01 09:52:55    20.07     4.70  94.33\n",
            "\n",
            "✅ Summary Statistics:\n",
            "        voltage    current      power\n",
            "count  50.00000  50.000000  50.000000\n",
            "mean   20.08220   3.518000  70.695000\n",
            "std     1.24349   0.905622  18.728031\n",
            "min    18.16000   2.170000  40.860000\n",
            "25%    18.68250   2.595000  54.240000\n",
            "50%    20.36000   3.405000  69.800000\n",
            "75%    21.08250   4.405000  87.737500\n",
            "max    21.93000   4.960000  99.040000\n"
          ]
        }
      ],
      "source": [
        "print(\" Latest Measurements:\")\n",
        "print(df.tail(5))\n",
        "\n",
        "print(\"\\n Summary Statistics:\")\n",
        "print(df.describe())\n"
      ]
    }
  ],
  "metadata": {
    "accelerator": "GPU",
    "colab": {
      "gpuType": "T4",
      "provenance": []
    },
    "kernelspec": {
      "display_name": "Python 3",
      "name": "python3"
    },
    "language_info": {
      "name": "python"
    }
  },
  "nbformat": 4,
  "nbformat_minor": 0
}